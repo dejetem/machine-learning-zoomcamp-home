{
 "cells": [
  {
   "cell_type": "code",
   "execution_count": 1,
   "metadata": {},
   "outputs": [],
   "source": [
    "import pandas as pd"
   ]
  },
  {
   "cell_type": "code",
   "execution_count": 3,
   "metadata": {},
   "outputs": [],
   "source": [
    "df = pd.read_csv('../01-intro/car_fuel_efficiency.csv')"
   ]
  },
  {
   "cell_type": "code",
   "execution_count": 4,
   "id": "e0f70ec0",
   "metadata": {},
   "outputs": [
    {
     "name": "stdout",
     "output_type": "stream",
     "text": [
      "engine_displacement      0\n",
      "horsepower             708\n",
      "vehicle_weight           0\n",
      "model_year               0\n",
      "fuel_efficiency_mpg      0\n",
      "dtype: int64\n"
     ]
    }
   ],
   "source": [
    "# Select only the required columns\n",
    "cols = ['engine_displacement', 'horsepower', 'vehicle_weight', 'model_year', 'fuel_efficiency_mpg']\n",
    "df_selected = df[cols]\n",
    "\n",
    "# Check for missing values in each column\n",
    "missing_counts = df_selected.isnull().sum()\n",
    "print(missing_counts)"
   ]
  },
  {
   "cell_type": "code",
   "execution_count": null,
   "id": "cde50b01",
   "metadata": {},
   "outputs": [],
   "source": []
  },
  {
   "cell_type": "code",
   "execution_count": 5,
   "id": "3e0e3905",
   "metadata": {},
   "outputs": [
    {
     "name": "stdout",
     "output_type": "stream",
     "text": [
      "Median horsepower: 149.0\n",
      "Train set size: 5822\n",
      "Validation set size: 1941\n",
      "Test set size: 1941\n"
     ]
    }
   ],
   "source": [
    "# Calculate the median (50th percentile) for 'horsepower'\n",
    "median_horsepower = df_selected['horsepower'].median()\n",
    "print(\"Median horsepower:\", median_horsepower)\n",
    "\n",
    "# Shuffle the filtered dataset with seed 42\n",
    "df_shuffled = df_selected.sample(frac=1, random_state=42).reset_index(drop=True)\n",
    "\n",
    "# Split into train/val/test sets: 60%/20%/20%\n",
    "n = len(df_shuffled)\n",
    "train_end = int(0.6 * n)\n",
    "val_end = int(0.8 * n)\n",
    "\n",
    "train_df = df_shuffled.iloc[:train_end]\n",
    "val_df = df_shuffled.iloc[train_end:val_end]\n",
    "test_df = df_shuffled.iloc[val_end:]\n",
    "\n",
    "print(\"Train set size:\", len(train_df))\n",
    "print(\"Validation set size:\", len(val_df))\n",
    "print(\"Test set size:\", len(test_df))"
   ]
  },
  {
   "cell_type": "code",
   "execution_count": 9,
   "id": "991d7558",
   "metadata": {},
   "outputs": [
    {
     "name": "stdout",
     "output_type": "stream",
     "text": [
      "RMSE (fill with 0): 0.52\n",
      "RMSE (fill with mean): 0.46\n",
      "With mean gives better RMSE\n"
     ]
    }
   ],
   "source": [
    "from sklearn.linear_model import LinearRegression\n",
    "from sklearn.metrics import root_mean_squared_error\n",
    "import numpy as np\n",
    "\n",
    "# Option 1: Fill missing 'horsepower' with 0\n",
    "train_0 = train_df.copy()\n",
    "val_0 = val_df.copy()\n",
    "train_0['horsepower'] = train_0['horsepower'].fillna(0)\n",
    "val_0['horsepower'] = val_0['horsepower'].fillna(0)\n",
    "\n",
    "X_train_0 = train_0.drop('fuel_efficiency_mpg', axis=1)\n",
    "y_train_0 = train_0['fuel_efficiency_mpg']\n",
    "X_val_0 = val_0.drop('fuel_efficiency_mpg', axis=1)\n",
    "y_val_0 = val_0['fuel_efficiency_mpg']\n",
    "\n",
    "model_0 = LinearRegression()\n",
    "model_0.fit(X_train_0, y_train_0)\n",
    "preds_0 = model_0.predict(X_val_0)\n",
    "rmse_0 = root_mean_squared_error(y_val_0, preds_0)\n",
    "rmse_0 = round(rmse_0, 2)\n",
    "\n",
    "# Option 2: Fill missing 'horsepower' with mean (from training set)\n",
    "mean_hp = train_df['horsepower'].mean()\n",
    "train_mean = train_df.copy()\n",
    "val_mean = val_df.copy()\n",
    "train_mean['horsepower'] = train_mean['horsepower'].fillna(mean_hp)\n",
    "val_mean['horsepower'] = val_mean['horsepower'].fillna(mean_hp)\n",
    "\n",
    "X_train_mean = train_mean.drop('fuel_efficiency_mpg', axis=1)\n",
    "y_train_mean = train_mean['fuel_efficiency_mpg']\n",
    "X_val_mean = val_mean.drop('fuel_efficiency_mpg', axis=1)\n",
    "y_val_mean = val_mean['fuel_efficiency_mpg']\n",
    "\n",
    "model_mean = LinearRegression()\n",
    "model_mean.fit(X_train_mean, y_train_mean)\n",
    "preds_mean = model_mean.predict(X_val_mean)\n",
    "rmse_mean = root_mean_squared_error(y_val_mean, preds_mean)\n",
    "rmse_mean = round(rmse_mean, 2)\n",
    "\n",
    "print(\"RMSE (fill with 0):\", rmse_0)\n",
    "print(\"RMSE (fill with mean):\", rmse_mean)\n",
    "\n",
    "if rmse_0 < rmse_mean:\n",
    "    print(\"With 0 gives better RMSE\")\n",
    "elif rmse_mean < rmse_0:\n",
    "    print(\"With mean gives better RMSE\")\n",
    "else:\n",
    "    print(\"Both are equally good\")"
   ]
  },
  {
   "cell_type": "code",
   "execution_count": 10,
   "id": "95222c02",
   "metadata": {},
   "outputs": [
    {
     "name": "stdout",
     "output_type": "stream",
     "text": [
      "r=0: RMSE=0.52\n",
      "r=0.01: RMSE=0.52\n",
      "r=0.1: RMSE=0.52\n",
      "r=1: RMSE=0.52\n",
      "r=5: RMSE=0.52\n",
      "r=10: RMSE=0.52\n",
      "r=100: RMSE=0.52\n",
      "Best r: 0\n"
     ]
    }
   ],
   "source": [
    "from sklearn.linear_model import Ridge\n",
    "\n",
    "r_values = [0, 0.01, 0.1, 1, 5, 10, 100]\n",
    "rmse_scores = []\n",
    "\n",
    "for r in r_values:\n",
    "    model = Ridge(alpha=r)\n",
    "    model.fit(X_train_0, y_train_0)\n",
    "    preds = model.predict(X_val_0)\n",
    "    rmse = root_mean_squared_error(y_val_0, preds)\n",
    "    rmse_scores.append(round(rmse, 2))\n",
    "\n",
    "for r, score in zip(r_values, rmse_scores):\n",
    "    print(f\"r={r}: RMSE={score}\")\n",
    "\n",
    "min_rmse = min(rmse_scores)\n",
    "best_r_candidates = [r for r, score in zip(r_values, rmse_scores) if score == min_rmse]\n",
    "best_r = min(best_r_candidates)\n",
    "print(\"Best r:\", best_r)"
   ]
  },
  {
   "cell_type": "code",
   "execution_count": 12,
   "id": "cb33c21d",
   "metadata": {},
   "outputs": [
    {
     "name": "stdout",
     "output_type": "stream",
     "text": [
      "Standard deviation of RMSE scores: 0.007\n"
     ]
    }
   ],
   "source": [
    "rmse_list = []\n",
    "seeds = list(range(10))\n",
    "\n",
    "for seed in seeds:\n",
    "    # Shuffle the filtered dataset with current seed\n",
    "    df_shuffled = df_selected.sample(frac=1, random_state=seed).reset_index(drop=True)\n",
    "    n = len(df_shuffled)\n",
    "    train_end = int(0.6 * n)\n",
    "    val_end = int(0.8 * n)\n",
    "    train_df = df_shuffled.iloc[:train_end]\n",
    "    val_df = df_shuffled.iloc[train_end:val_end]\n",
    "\n",
    "    # Fill missing 'horsepower' with 0\n",
    "    train_0 = train_df.copy()\n",
    "    val_0 = val_df.copy()\n",
    "    train_0['horsepower'] = train_0['horsepower'].fillna(0)\n",
    "    val_0['horsepower'] = val_0['horsepower'].fillna(0)\n",
    "\n",
    "    X_train_0 = train_0.drop('fuel_efficiency_mpg', axis=1)\n",
    "    y_train_0 = train_0['fuel_efficiency_mpg']\n",
    "    X_val_0 = val_0.drop('fuel_efficiency_mpg', axis=1)\n",
    "    y_val_0 = val_0['fuel_efficiency_mpg']\n",
    "\n",
    "    model = LinearRegression()\n",
    "    model.fit(X_train_0, y_train_0)\n",
    "    preds = model.predict(X_val_0)\n",
    "    rmse = root_mean_squared_error(y_val_0, preds)\n",
    "    rmse_list.append(rmse)\n",
    "\n",
    "std = np.std(rmse_list)\n",
    "print(\"Standard deviation of RMSE scores:\", round(std, 3))\n",
    "seeds = list(range(10))"
   ]
  },
  {
   "cell_type": "code",
   "execution_count": 13,
   "id": "b68eef79",
   "metadata": {},
   "outputs": [
    {
     "name": "stdout",
     "output_type": "stream",
     "text": [
      "RMSE on test set: 0.516\n"
     ]
    }
   ],
   "source": [
    "# Shuffle and split with seed 9\n",
    "df_shuffled = df_selected.sample(frac=1, random_state=9).reset_index(drop=True)\n",
    "n = len(df_shuffled)\n",
    "train_end = int(0.6 * n)\n",
    "val_end = int(0.8 * n)\n",
    "\n",
    "train_df = df_shuffled.iloc[:train_end]\n",
    "val_df = df_shuffled.iloc[train_end:val_end]\n",
    "test_df = df_shuffled.iloc[val_end:]\n",
    "\n",
    "# Combine train and validation sets\n",
    "trainval_df = pd.concat([train_df, val_df], ignore_index=True)\n",
    "\n",
    "# Fill missing 'horsepower' with 0\n",
    "trainval_0 = trainval_df.copy()\n",
    "test_0 = test_df.copy()\n",
    "trainval_0['horsepower'] = trainval_0['horsepower'].fillna(0)\n",
    "test_0['horsepower'] = test_0['horsepower'].fillna(0)\n",
    "\n",
    "X_trainval_0 = trainval_0.drop('fuel_efficiency_mpg', axis=1)\n",
    "y_trainval_0 = trainval_0['fuel_efficiency_mpg']\n",
    "X_test_0 = test_0.drop('fuel_efficiency_mpg', axis=1)\n",
    "y_test_0 = test_0['fuel_efficiency_mpg']\n",
    "\n",
    "# Train Ridge model with r=0.001\n",
    "model = Ridge(alpha=0.001)\n",
    "model.fit(X_trainval_0, y_trainval_0)\n",
    "preds = model.predict(X_test_0)\n",
    "\n",
    "# Calculate RMSE\n",
    "rmse = root_mean_squared_error(y_test_0, preds)\n",
    "print(\"RMSE on test set:\", round(rmse, 3))"
   ]
  },
  {
   "cell_type": "code",
   "execution_count": null,
   "id": "e0284735",
   "metadata": {},
   "outputs": [],
   "source": []
  },
  {
   "cell_type": "code",
   "execution_count": null,
   "metadata": {},
   "outputs": [],
   "source": []
  },
  {
   "cell_type": "code",
   "execution_count": null,
   "id": "01c1fd9f",
   "metadata": {},
   "outputs": [],
   "source": []
  }
 ],
 "metadata": {
  "kernelspec": {
   "display_name": ".venv",
   "language": "python",
   "name": "python3"
  },
  "language_info": {
   "codemirror_mode": {
    "name": "ipython",
    "version": 3
   },
   "file_extension": ".py",
   "mimetype": "text/x-python",
   "name": "python",
   "nbconvert_exporter": "python",
   "pygments_lexer": "ipython3",
   "version": "3.12.6"
  }
 },
 "nbformat": 4,
 "nbformat_minor": 5
}
